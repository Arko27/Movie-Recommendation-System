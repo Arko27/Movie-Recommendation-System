{
 "cells": [
  {
   "cell_type": "markdown",
   "id": "bc2e09e5",
   "metadata": {},
   "source": [
    "# Movie Recommendation System\n",
    "\n",
    "Be it the OTT platforms like Netflix and Hotstar or the e-Commerce websites like Flipkart and Amazon, all provides suggestions to us that recommends new movies based on the watch history, or suggests new products based on our order or search history.\n",
    "\n",
    "These suggestions or recommendations are done by a system called a recommendation system. This engine makes suggestions by learning and understanding the patterns from our previous movements and then applies those patterns and findings to make new suggestions."
   ]
  },
  {
   "cell_type": "code",
   "execution_count": 2,
   "id": "9d7a177a",
   "metadata": {},
   "outputs": [],
   "source": [
    "# Importing the Modules\n",
    "\n",
    "import pandas as pd\n",
    "import seaborn as sns\n",
    "import difflib\n",
    "from sklearn.feature_extraction.text import TfidfVectorizer\n",
    "from sklearn.metrics.pairwise import cosine_similarity"
   ]
  },
  {
   "cell_type": "code",
   "execution_count": 3,
   "id": "fb0c0e2c",
   "metadata": {},
   "outputs": [
    {
     "data": {
      "text/html": [
       "<div>\n",
       "<style scoped>\n",
       "    .dataframe tbody tr th:only-of-type {\n",
       "        vertical-align: middle;\n",
       "    }\n",
       "\n",
       "    .dataframe tbody tr th {\n",
       "        vertical-align: top;\n",
       "    }\n",
       "\n",
       "    .dataframe thead th {\n",
       "        text-align: right;\n",
       "    }\n",
       "</style>\n",
       "<table border=\"1\" class=\"dataframe\">\n",
       "  <thead>\n",
       "    <tr style=\"text-align: right;\">\n",
       "      <th></th>\n",
       "      <th>index</th>\n",
       "      <th>budget</th>\n",
       "      <th>genres</th>\n",
       "      <th>homepage</th>\n",
       "      <th>id</th>\n",
       "      <th>keywords</th>\n",
       "      <th>original_language</th>\n",
       "      <th>original_title</th>\n",
       "      <th>overview</th>\n",
       "      <th>popularity</th>\n",
       "      <th>...</th>\n",
       "      <th>runtime</th>\n",
       "      <th>spoken_languages</th>\n",
       "      <th>status</th>\n",
       "      <th>tagline</th>\n",
       "      <th>title</th>\n",
       "      <th>vote_average</th>\n",
       "      <th>vote_count</th>\n",
       "      <th>cast</th>\n",
       "      <th>crew</th>\n",
       "      <th>director</th>\n",
       "    </tr>\n",
       "  </thead>\n",
       "  <tbody>\n",
       "    <tr>\n",
       "      <th>0</th>\n",
       "      <td>0</td>\n",
       "      <td>237000000</td>\n",
       "      <td>Action Adventure Fantasy Science Fiction</td>\n",
       "      <td>http://www.avatarmovie.com/</td>\n",
       "      <td>19995</td>\n",
       "      <td>culture clash future space war space colony so...</td>\n",
       "      <td>en</td>\n",
       "      <td>Avatar</td>\n",
       "      <td>In the 22nd century, a paraplegic Marine is di...</td>\n",
       "      <td>150.437577</td>\n",
       "      <td>...</td>\n",
       "      <td>162.0</td>\n",
       "      <td>[{\"iso_639_1\": \"en\", \"name\": \"English\"}, {\"iso...</td>\n",
       "      <td>Released</td>\n",
       "      <td>Enter the World of Pandora.</td>\n",
       "      <td>Avatar</td>\n",
       "      <td>7.2</td>\n",
       "      <td>11800</td>\n",
       "      <td>Sam Worthington Zoe Saldana Sigourney Weaver S...</td>\n",
       "      <td>[{'name': 'Stephen E. Rivkin', 'gender': 0, 'd...</td>\n",
       "      <td>James Cameron</td>\n",
       "    </tr>\n",
       "    <tr>\n",
       "      <th>1</th>\n",
       "      <td>1</td>\n",
       "      <td>300000000</td>\n",
       "      <td>Adventure Fantasy Action</td>\n",
       "      <td>http://disney.go.com/disneypictures/pirates/</td>\n",
       "      <td>285</td>\n",
       "      <td>ocean drug abuse exotic island east india trad...</td>\n",
       "      <td>en</td>\n",
       "      <td>Pirates of the Caribbean: At World's End</td>\n",
       "      <td>Captain Barbossa, long believed to be dead, ha...</td>\n",
       "      <td>139.082615</td>\n",
       "      <td>...</td>\n",
       "      <td>169.0</td>\n",
       "      <td>[{\"iso_639_1\": \"en\", \"name\": \"English\"}]</td>\n",
       "      <td>Released</td>\n",
       "      <td>At the end of the world, the adventure begins.</td>\n",
       "      <td>Pirates of the Caribbean: At World's End</td>\n",
       "      <td>6.9</td>\n",
       "      <td>4500</td>\n",
       "      <td>Johnny Depp Orlando Bloom Keira Knightley Stel...</td>\n",
       "      <td>[{'name': 'Dariusz Wolski', 'gender': 2, 'depa...</td>\n",
       "      <td>Gore Verbinski</td>\n",
       "    </tr>\n",
       "    <tr>\n",
       "      <th>2</th>\n",
       "      <td>2</td>\n",
       "      <td>245000000</td>\n",
       "      <td>Action Adventure Crime</td>\n",
       "      <td>http://www.sonypictures.com/movies/spectre/</td>\n",
       "      <td>206647</td>\n",
       "      <td>spy based on novel secret agent sequel mi6</td>\n",
       "      <td>en</td>\n",
       "      <td>Spectre</td>\n",
       "      <td>A cryptic message from Bond’s past sends him o...</td>\n",
       "      <td>107.376788</td>\n",
       "      <td>...</td>\n",
       "      <td>148.0</td>\n",
       "      <td>[{\"iso_639_1\": \"fr\", \"name\": \"Fran\\u00e7ais\"},...</td>\n",
       "      <td>Released</td>\n",
       "      <td>A Plan No One Escapes</td>\n",
       "      <td>Spectre</td>\n",
       "      <td>6.3</td>\n",
       "      <td>4466</td>\n",
       "      <td>Daniel Craig Christoph Waltz L\\u00e9a Seydoux ...</td>\n",
       "      <td>[{'name': 'Thomas Newman', 'gender': 2, 'depar...</td>\n",
       "      <td>Sam Mendes</td>\n",
       "    </tr>\n",
       "  </tbody>\n",
       "</table>\n",
       "<p>3 rows × 24 columns</p>\n",
       "</div>"
      ],
      "text/plain": [
       "   index     budget                                    genres  \\\n",
       "0      0  237000000  Action Adventure Fantasy Science Fiction   \n",
       "1      1  300000000                  Adventure Fantasy Action   \n",
       "2      2  245000000                    Action Adventure Crime   \n",
       "\n",
       "                                       homepage      id  \\\n",
       "0                   http://www.avatarmovie.com/   19995   \n",
       "1  http://disney.go.com/disneypictures/pirates/     285   \n",
       "2   http://www.sonypictures.com/movies/spectre/  206647   \n",
       "\n",
       "                                            keywords original_language  \\\n",
       "0  culture clash future space war space colony so...                en   \n",
       "1  ocean drug abuse exotic island east india trad...                en   \n",
       "2         spy based on novel secret agent sequel mi6                en   \n",
       "\n",
       "                             original_title  \\\n",
       "0                                    Avatar   \n",
       "1  Pirates of the Caribbean: At World's End   \n",
       "2                                   Spectre   \n",
       "\n",
       "                                            overview  popularity  ... runtime  \\\n",
       "0  In the 22nd century, a paraplegic Marine is di...  150.437577  ...   162.0   \n",
       "1  Captain Barbossa, long believed to be dead, ha...  139.082615  ...   169.0   \n",
       "2  A cryptic message from Bond’s past sends him o...  107.376788  ...   148.0   \n",
       "\n",
       "                                    spoken_languages    status  \\\n",
       "0  [{\"iso_639_1\": \"en\", \"name\": \"English\"}, {\"iso...  Released   \n",
       "1           [{\"iso_639_1\": \"en\", \"name\": \"English\"}]  Released   \n",
       "2  [{\"iso_639_1\": \"fr\", \"name\": \"Fran\\u00e7ais\"},...  Released   \n",
       "\n",
       "                                          tagline  \\\n",
       "0                     Enter the World of Pandora.   \n",
       "1  At the end of the world, the adventure begins.   \n",
       "2                           A Plan No One Escapes   \n",
       "\n",
       "                                      title vote_average vote_count  \\\n",
       "0                                    Avatar          7.2      11800   \n",
       "1  Pirates of the Caribbean: At World's End          6.9       4500   \n",
       "2                                   Spectre          6.3       4466   \n",
       "\n",
       "                                                cast  \\\n",
       "0  Sam Worthington Zoe Saldana Sigourney Weaver S...   \n",
       "1  Johnny Depp Orlando Bloom Keira Knightley Stel...   \n",
       "2  Daniel Craig Christoph Waltz L\\u00e9a Seydoux ...   \n",
       "\n",
       "                                                crew        director  \n",
       "0  [{'name': 'Stephen E. Rivkin', 'gender': 0, 'd...   James Cameron  \n",
       "1  [{'name': 'Dariusz Wolski', 'gender': 2, 'depa...  Gore Verbinski  \n",
       "2  [{'name': 'Thomas Newman', 'gender': 2, 'depar...      Sam Mendes  \n",
       "\n",
       "[3 rows x 24 columns]"
      ]
     },
     "execution_count": 3,
     "metadata": {},
     "output_type": "execute_result"
    }
   ],
   "source": [
    "# Loading the dataset\n",
    "\n",
    "df = pd.read_csv('movies.csv')\n",
    "df.head(3)"
   ]
  },
  {
   "cell_type": "code",
   "execution_count": 4,
   "id": "876f9bbe",
   "metadata": {},
   "outputs": [
    {
     "data": {
      "text/plain": [
       "Index(['index', 'budget', 'genres', 'homepage', 'id', 'keywords',\n",
       "       'original_language', 'original_title', 'overview', 'popularity',\n",
       "       'production_companies', 'production_countries', 'release_date',\n",
       "       'revenue', 'runtime', 'spoken_languages', 'status', 'tagline', 'title',\n",
       "       'vote_average', 'vote_count', 'cast', 'crew', 'director'],\n",
       "      dtype='object')"
      ]
     },
     "execution_count": 4,
     "metadata": {},
     "output_type": "execute_result"
    }
   ],
   "source": [
    "# Getting the columns\n",
    "\n",
    "df.columns"
   ]
  },
  {
   "cell_type": "code",
   "execution_count": 5,
   "id": "c440df3e",
   "metadata": {},
   "outputs": [
    {
     "data": {
      "text/plain": [
       "(4803, 24)"
      ]
     },
     "execution_count": 5,
     "metadata": {},
     "output_type": "execute_result"
    }
   ],
   "source": [
    "#Getting the shape of the dataset\n",
    "\n",
    "df.shape"
   ]
  },
  {
   "cell_type": "code",
   "execution_count": 6,
   "id": "5456c3be",
   "metadata": {},
   "outputs": [],
   "source": [
    "# Selecting the features based on which the recommendation is made\n",
    "# You can also chnage the features for better modelling\n",
    "\n",
    "sel_fet = ['genres', 'keywords', 'tagline', 'cast', 'director']"
   ]
  },
  {
   "cell_type": "code",
   "execution_count": 7,
   "id": "42f3148a",
   "metadata": {},
   "outputs": [
    {
     "data": {
      "text/plain": [
       "genres       28\n",
       "keywords    412\n",
       "tagline     844\n",
       "cast         43\n",
       "director     30\n",
       "dtype: int64"
      ]
     },
     "execution_count": 7,
     "metadata": {},
     "output_type": "execute_result"
    }
   ],
   "source": [
    "# Checking for null values in the features selected\n",
    "\n",
    "df[sel_fet].isnull().sum()"
   ]
  },
  {
   "cell_type": "code",
   "execution_count": 8,
   "id": "f691a11c",
   "metadata": {},
   "outputs": [],
   "source": [
    "# Filling the null values with white-space and adding all the features and preparing it to be fed into the model\n",
    "\n",
    "comb_fet = \"\"\n",
    "for i in sel_fet:\n",
    "    df[i].fillna('', inplace=True)\n",
    "    comb_fet += df[i]"
   ]
  },
  {
   "cell_type": "code",
   "execution_count": 9,
   "id": "3e650117",
   "metadata": {},
   "outputs": [
    {
     "name": "stdout",
     "output_type": "stream",
     "text": [
      "0    Action Adventure Fantasy Science Fictioncultur...\n",
      "1    Adventure Fantasy Actionocean drug abuse exoti...\n",
      "2    Action Adventure Crimespy based on novel secre...\n",
      "3    Action Crime Drama Thrillerdc comics crime fig...\n",
      "4    Action Adventure Science Fictionbased on novel...\n",
      "Name: genres, dtype: object\n",
      "4803\n"
     ]
    }
   ],
   "source": [
    "# Printing the first 5 combined features and the length of the data\n",
    "\n",
    "print(comb_fet[:5])\n",
    "print(len(comb_fet))"
   ]
  },
  {
   "cell_type": "markdown",
   "id": "23fa9d03",
   "metadata": {},
   "source": [
    "# TFID Vectorizer\n",
    "\n",
    "TfidfVectorizer transforms text to feature vectors that can be used as input to estimator.\n",
    "It uses an in-memory vocabulary (a python dict) to map the most frequent words to features indices and hence compute a word occurrence frequency(sparse) matrix."
   ]
  },
  {
   "cell_type": "code",
   "execution_count": 10,
   "id": "913f6198",
   "metadata": {},
   "outputs": [],
   "source": [
    "# Creating an object of TFIDVectorizer\n",
    "\n",
    "vector = TfidfVectorizer()"
   ]
  },
  {
   "cell_type": "code",
   "execution_count": 11,
   "id": "e2a24960",
   "metadata": {
    "scrolled": false
   },
   "outputs": [],
   "source": [
    "# Fitting the Combined Features into the TFIDVectorizer\n",
    "\n",
    "comb_vec = vector.fit_transform(comb_fet)\n",
    "# print(comb_vec)"
   ]
  },
  {
   "cell_type": "markdown",
   "id": "7b095efb",
   "metadata": {},
   "source": [
    "# Cosine Similarity\n",
    "\n",
    "Cosine similarity measures the similarity between two vectors. It is measured by the cosine of the angle between two vectors and determines whether two vectors are pointing in roughly the same direction. It is often used to measure document similarity in text analysis with respect to a given vector of query words."
   ]
  },
  {
   "cell_type": "code",
   "execution_count": 12,
   "id": "21dc6381",
   "metadata": {},
   "outputs": [
    {
     "name": "stdout",
     "output_type": "stream",
     "text": [
      "[[1.         0.06865296 0.01492221 ... 0.         0.         0.        ]\n",
      " [0.06865296 1.         0.02799128 ... 0.01243107 0.         0.        ]\n",
      " [0.01492221 0.02799128 1.         ... 0.         0.         0.        ]\n",
      " ...\n",
      " [0.         0.01243107 0.         ... 1.         0.         0.        ]\n",
      " [0.         0.         0.         ... 0.         1.         0.        ]\n",
      " [0.         0.         0.         ... 0.         0.         1.        ]]\n",
      "(4803, 4803)\n"
     ]
    }
   ],
   "source": [
    "# Calculating the Similarity Matrix\n",
    "\n",
    "similarity = cosine_similarity(comb_vec)\n",
    "print(similarity)\n",
    "print(similarity.shape)"
   ]
  },
  {
   "cell_type": "code",
   "execution_count": 13,
   "id": "8ce28eaa",
   "metadata": {
    "scrolled": true
   },
   "outputs": [
    {
     "data": {
      "text/plain": [
       "['Avatar',\n",
       " \"Pirates of the Caribbean: At World's End\",\n",
       " 'Spectre',\n",
       " 'The Dark Knight Rises',\n",
       " 'John Carter']"
      ]
     },
     "execution_count": 13,
     "metadata": {},
     "output_type": "execute_result"
    }
   ],
   "source": [
    "#Printing the first 5 titles from the dataset\n",
    "\n",
    "all_movies = list(df['original_title'])\n",
    "all_movies[:5]"
   ]
  },
  {
   "cell_type": "code",
   "execution_count": 14,
   "id": "21863eef",
   "metadata": {
    "scrolled": true
   },
   "outputs": [
    {
     "name": "stdout",
     "output_type": "stream",
     "text": [
      "Enter Movie Name: spider-man\n"
     ]
    }
   ],
   "source": [
    "# Input a Movie name and get the suggestions\n",
    "\n",
    "movie = input(\"Enter Movie Name: \")"
   ]
  },
  {
   "cell_type": "markdown",
   "id": "75285612",
   "metadata": {},
   "source": [
    "# difflib.getclose_matches()\n",
    "\n",
    "The difflib module serves a simple yet powerful utility as the get_close_matches method. This tool will accept parameters and return the closest matches to the target string"
   ]
  },
  {
   "cell_type": "code",
   "execution_count": 15,
   "id": "1c128b48",
   "metadata": {},
   "outputs": [
    {
     "name": "stdout",
     "output_type": "stream",
     "text": [
      "['Spider-Man', 'Spider-Man 3', 'Spider-Man 2']\n"
     ]
    }
   ],
   "source": [
    "# Printing all the closest matches with respect to the input\n",
    "\n",
    "close_match = difflib.get_close_matches(movie, all_movies)\n",
    "print(close_match)"
   ]
  },
  {
   "cell_type": "code",
   "execution_count": 22,
   "id": "2b7a092c",
   "metadata": {
    "scrolled": false
   },
   "outputs": [
    {
     "name": "stdout",
     "output_type": "stream",
     "text": [
      "1. The Good German\n",
      "2. The Notebook\n",
      "3. Spider-Man\n",
      "4. Spider-Man 3\n",
      "5. Frida\n",
      "6. The Specials\n",
      "7. Deadpool\n",
      "8. Seabiscuit\n",
      "9. Spider-Man 2\n"
     ]
    }
   ],
   "source": [
    "# Here I have done a couple of things:\n",
    "# 1. Getting the index of each matched movies.\n",
    "# 2. Getting the similarity score for the matched movies (i.e. its entire indexed row) along with a counters.\n",
    "# 3. Sorting the scores in desceding order with respect to the scores.\n",
    "# 4. Getting only first 5 matches from each matched movies and eliminating the duplicating ones.\n",
    "# 5. Finally printing the list of all the Recommended Movies.\n",
    "\n",
    "movie_recommend = []\n",
    "\n",
    "for movie in close_match:\n",
    "    \n",
    "    movie_idx = all_movies.index(movie)\n",
    "    sim_score = list(enumerate(similarity[movie_idx]))\n",
    "    simScore_sort = sorted(sim_score, key = lambda x:x[1], reverse=True)\n",
    "\n",
    "    i = 1\n",
    "    for score in simScore_sort:\n",
    "        idx = score[0]\n",
    "        if(i <= 5):\n",
    "            movie_recommend.append(df['original_title'][idx])\n",
    "            i += 1\n",
    "    i = 1\n",
    "\n",
    "movie_recommend = list(set(movie_recommend))\n",
    "\n",
    "for i in range(len(movie_recommend)):\n",
    "    print(f\"{i+1}. {movie_recommend[i]}\")"
   ]
  }
 ],
 "metadata": {
  "kernelspec": {
   "display_name": "Python 3",
   "language": "python",
   "name": "python3"
  },
  "language_info": {
   "codemirror_mode": {
    "name": "ipython",
    "version": 3
   },
   "file_extension": ".py",
   "mimetype": "text/x-python",
   "name": "python",
   "nbconvert_exporter": "python",
   "pygments_lexer": "ipython3",
   "version": "3.9.3"
  }
 },
 "nbformat": 4,
 "nbformat_minor": 5
}
